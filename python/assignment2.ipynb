{
  "nbformat": 4,
  "nbformat_minor": 0,
  "metadata": {
    "colab": {
      "name": "assignment2.ipynb",
      "provenance": [],
      "collapsed_sections": [],
      "authorship_tag": "ABX9TyMwo2gw94nmPvrHuye1dOEK"
    },
    "kernelspec": {
      "name": "python3",
      "display_name": "Python 3"
    }
  },
  "cells": [
    {
      "cell_type": "markdown",
      "metadata": {
        "id": "8QrAk9xZpcqB",
        "colab_type": "text"
      },
      "source": [
        "# Exercise 1:Mailing Address\n",
        "\n",
        "\n",
        "\n",
        "\n",
        "Create a program that displays your name and complete\n",
        "mailing address formattedin the manner that you would usually see it on the \n",
        "outside of an envelope. Your program does not need to read any input from the user.\n"
      ]
    },
    {
      "cell_type": "code",
      "metadata": {
        "id": "CbQtdea0peEO",
        "colab_type": "code",
        "colab": {
          "base_uri": "https://localhost:8080/",
          "height": 102
        },
        "outputId": "659ebe1c-4919-47d5-d915-4f846bab9b4e"
      },
      "source": [
        "name = \"Aditya\"\n",
        "door_no = '2-5'\n",
        "address = 'Guntur, Andhra pradesh'\n",
        "pin = 522501\n",
        "\n",
        "print(\"mailing address for {0}\".format(name))\n",
        "print (\"Name :{0}\\nDoor No: {1}\\nAddress : {2}\\nPin Code : {3}\".format(name,door_no,address,pin))"
      ],
      "execution_count": 4,
      "outputs": [
        {
          "output_type": "stream",
          "text": [
            "mailing address for Aditya\n",
            "Name :Aditya\n",
            "Door No: 2-5\n",
            "Address : Guntur, Andhra pradesh\n",
            "Pin Code : 522501\n"
          ],
          "name": "stdout"
        }
      ]
    },
    {
      "cell_type": "markdown",
      "metadata": {
        "id": "eeQ2vxdMpam6",
        "colab_type": "text"
      },
      "source": [
        "# Exercise 2: Hello                                             \n",
        "\n",
        "Write a program that asks the user to enter his or her name. The program should respond with a message that says hello to the user, using his or her name."
      ]
    },
    {
      "cell_type": "code",
      "metadata": {
        "id": "GkvWVVDnrehA",
        "colab_type": "code",
        "colab": {
          "base_uri": "https://localhost:8080/",
          "height": 51
        },
        "outputId": "8eb49a7f-7c72-465c-96ed-1580af7ade2f"
      },
      "source": [
        "name = input(\"Enter your name : \")\n",
        "print (\"hello {0}\".format(name))"
      ],
      "execution_count": 6,
      "outputs": [
        {
          "output_type": "stream",
          "text": [
            "Enter your name : Aditya\n",
            "hello Aditya\n"
          ],
          "name": "stdout"
        }
      ]
    },
    {
      "cell_type": "markdown",
      "metadata": {
        "id": "yuYNoY3osgc7",
        "colab_type": "text"
      },
      "source": [
        "# Exercise 3: Area of a Room\n",
        "\n",
        "Write a program that asks the user to enter the width and length of a room. Once the values have been read, your program should compute and display the area of the room. The length and the width will be entered as floating-pointnumbers. Include units in your prompt and output message; either feet or meters, depending on which unit you are more comfortable working with.\n"
      ]
    },
    {
      "cell_type": "code",
      "metadata": {
        "id": "lwtcpPhEutkd",
        "colab_type": "code",
        "colab": {
          "base_uri": "https://localhost:8080/",
          "height": 68
        },
        "outputId": "673bff29-c0f3-4734-fa3f-e218db4db31d"
      },
      "source": [
        "w = float(input(\"enter Width in feet : \"))\n",
        "h = float(input(\"enter Height in feet : \"))\n",
        "area = w*h\n",
        "print(\"area of the room with width = {} feet and height = {} feet is {} square feet\".format(w,h,area))\n"
      ],
      "execution_count": 7,
      "outputs": [
        {
          "output_type": "stream",
          "text": [
            "enter Width in feet30\n",
            "enter Height in feet40\n",
            "area of the room with width = 30.0 feet and height = 40.0 feet is 1200.0 square feet\n"
          ],
          "name": "stdout"
        }
      ]
    },
    {
      "cell_type": "markdown",
      "metadata": {
        "id": "DQU14e4juecS",
        "colab_type": "text"
      },
      "source": [
        "# Exercise 4:Area of a Field\n",
        "\n",
        "Create a program that reads the length and width of a farmer’s field \n",
        "from the user in feet. Display the area of the field in acres. Hint: There are 43,560 square feet in an acre.\n"
      ]
    },
    {
      "cell_type": "code",
      "metadata": {
        "id": "4gbuRWjUzOnE",
        "colab_type": "code",
        "colab": {
          "base_uri": "https://localhost:8080/",
          "height": 68
        },
        "outputId": "98462387-8d18-4237-9067-6ebd248bb7fa"
      },
      "source": [
        "w = float(input(\"enter Width in feet : \"))\n",
        "l = float(input(\"enter Length in feet : \"))\n",
        "area = round((w*l)/43560,2)\n",
        "print(\"area of the room with width = {} feet and Length = {} feet is {} Acre\".format(w,l,area))\n"
      ],
      "execution_count": 12,
      "outputs": [
        {
          "output_type": "stream",
          "text": [
            "enter Width in feet : 300\n",
            "enter Length in feet : 400\n",
            "area of the room with width = 300.0 feet and Length = 400.0 feet is 2.75 Acre\n"
          ],
          "name": "stdout"
        }
      ]
    },
    {
      "cell_type": "markdown",
      "metadata": {
        "id": "YLR_ge4Wz0ej",
        "colab_type": "text"
      },
      "source": [
        "# Exercise 5: Bottle Deposits\n",
        "In many jurisdictions a small deposit is added to drink containers to encourage people to recycle them. In one particular jurisdiction, drink containers holding one litreor less have a  0.10 Dollar deposit, and drink containers holding more than one litrehave a 0.25 Dollar deposit. Write a program that reads the number of containers of each size from the user. Your program should continue by computing and displaying the refund that will be received for returning those containers. Format the output so that it includes a dollar sign and always displays exactly two decimal places."
      ]
    },
    {
      "cell_type": "code",
      "metadata": {
        "id": "46DLW9E_0eJp",
        "colab_type": "code",
        "colab": {
          "base_uri": "https://localhost:8080/",
          "height": 68
        },
        "outputId": "1994815a-4713-494a-beb8-ade1bc1afdf8"
      },
      "source": [
        "num_less_1_liter = float(input(\"Enter the quantity for bottles of one liter or less : \"))\n",
        "num_more_1_liter = float(input(\"Enter the quantity for bottles of more that one liter : \"))\n",
        "refund  = (num_less_1_liter * 0.10) + (num_more_1_liter * 0.25)\n",
        "print (\"Your processd refund is ${} \".format(round(refund,2)))"
      ],
      "execution_count": 18,
      "outputs": [
        {
          "output_type": "stream",
          "text": [
            "Enter the quantity for bottles of one liter or less : 300\n",
            "Enter the quantity for bottles of more that one liter : 375\n",
            "Your processd refund is $123.75 \n"
          ],
          "name": "stdout"
        }
      ]
    },
    {
      "cell_type": "markdown",
      "metadata": {
        "id": "zoLcYXJE2fu4",
        "colab_type": "text"
      },
      "source": [
        "# Exercise 6: Tax and Tip\n",
        "The program that you create for this exercisewill begin by reading the cost of a meal ordered at a restaurant from the user. Then your program will compute the tax and tip for the meal. Use your local tax rate when computing the amount of tax owing. Compute the tip as 18 percent of the meal amount (without the tax). The output from your program should include the tax amount, the tip amount, and the grand total for the meal including both the tax and the tip. Format the output so that allthe values are displayed using two decimal places."
      ]
    },
    {
      "cell_type": "code",
      "metadata": {
        "id": "vZTAQ9hk2mlt",
        "colab_type": "code",
        "colab": {
          "base_uri": "https://localhost:8080/",
          "height": 119
        },
        "outputId": "604e0a22-4154-423e-c6d5-5546cf80bdcb"
      },
      "source": [
        "meal_cost = float(input(\"please enter the cost of the meal : \"))\n",
        "tax_rate = 12\n",
        "tip_rate = 18\n",
        "tax = round((meal_cost*(12/100)),2)\n",
        "tip = round((meal_cost*(18/100)),2)\n",
        "total = meal_cost+tax+tip\n",
        "print (\"Meal : {0}\\nTip : {1}\\nTax : {2}\\n{3}\\nGrand Total : {4}\".format(meal_cost,tip,tax,20*'-',total))"
      ],
      "execution_count": 21,
      "outputs": [
        {
          "output_type": "stream",
          "text": [
            "please enter the cost of the meal : 8993\n",
            "Meal : 8993.0\n",
            "Tip : 1618.74\n",
            "Tax : 1079.16\n",
            "--------------------\n",
            "Grand Total : 11690.9\n"
          ],
          "name": "stdout"
        }
      ]
    },
    {
      "cell_type": "markdown",
      "metadata": {
        "id": "G72-OcUl4dXF",
        "colab_type": "text"
      },
      "source": [
        "# Exercise 7: Sum of the First n Positive Integers\n",
        "Write a program that reads a positive integer, n, from the user and then displays the sum of allthe integers from 1 to n. The sum of the first n positive integers can be computed using the formula: sum = (n)(n + 1)/2"
      ]
    },
    {
      "cell_type": "code",
      "metadata": {
        "id": "YbInP-3V4nP2",
        "colab_type": "code",
        "colab": {
          "base_uri": "https://localhost:8080/",
          "height": 51
        },
        "outputId": "3ecec809-11e2-4bd1-ac79-db57ab6a98c7"
      },
      "source": [
        "n = int(input(\"Enter a positive integer : \"))\n",
        "sum = round((n)*(n + 1)/2)\n",
        "print (\"Sum of the First {0} Positive Integers is {1}\".format(n,sum))"
      ],
      "execution_count": 27,
      "outputs": [
        {
          "output_type": "stream",
          "text": [
            "Enter a positive integer : 18\n",
            "Sum of the First 18 Positive Integers is 171\n"
          ],
          "name": "stdout"
        }
      ]
    },
    {
      "cell_type": "markdown",
      "metadata": {
        "id": "OaWtSzQk5ruz",
        "colab_type": "text"
      },
      "source": [
        "# Exercise 8:Widgets and Gizmos\n",
        "An online retailer sells two products: widgets and gizmos. Each widget weighs 75 grams. Each gizmo weighs 112 grams. Write a program that reads the number of widgets and the number of gizmos in an order from the user. Then your program should compute and display the total weight of the order."
      ]
    },
    {
      "cell_type": "code",
      "metadata": {
        "id": "NGaUq6dQ5um6",
        "colab_type": "code",
        "colab": {
          "base_uri": "https://localhost:8080/",
          "height": 68
        },
        "outputId": "6021a6fd-f258-4489-e543-5d83db9ba13e"
      },
      "source": [
        "num_widgets = int(input(\"Enter the number of Widgets to order : \"))\n",
        "num_gizmos = int(input(\"Enter the number of Gizmos to order : \"))\n",
        "weight_widget  = 75 \n",
        "weight_gizmo = 112\n",
        "order_weight = num_widgets * weight_widget + num_gizmos * weight_gizmo\n",
        "print (\"Your total order weight is {0} Grams\".format(order_weight))"
      ],
      "execution_count": 29,
      "outputs": [
        {
          "output_type": "stream",
          "text": [
            "Enter the number of Widgets to order : 20\n",
            "Enter the number of Gizmos to order : 25\n",
            "Your total order weight is 4300 Grams\n"
          ],
          "name": "stdout"
        }
      ]
    },
    {
      "cell_type": "markdown",
      "metadata": {
        "id": "d8nvaS_-6txU",
        "colab_type": "text"
      },
      "source": [
        "# Exercise 9: Compound Interest\n",
        "Pretend that you have just opened a new savings account that earns 4 percent interest per year. The interest that you earn is paid at the end of the year andis added to the balance of the savings account. Write a program that begins by reading the amount of money deposited into the account from the user. Then your program should compute and display the amount in the savings account after 1, 2, and 3 years. Display each amount so that it is rounded to 2 decimal places.\n"
      ]
    },
    {
      "cell_type": "code",
      "metadata": {
        "id": "cANuGT7u6z5O",
        "colab_type": "code",
        "colab": {
          "base_uri": "https://localhost:8080/",
          "height": 85
        },
        "outputId": "aca1d245-d53e-4a0f-fdf1-4768317c4eac"
      },
      "source": [
        "deposit = float(input(\"Enter your deposit : \"))\n",
        "rate = 4\n",
        "for i in range(1,4):\n",
        "  "
      ],
      "execution_count": 31,
      "outputs": [
        {
          "output_type": "stream",
          "text": [
            "Enter your deposit : 343\n",
            "1\n",
            "2\n",
            "3\n"
          ],
          "name": "stdout"
        }
      ]
    },
    {
      "cell_type": "markdown",
      "metadata": {
        "id": "Yxs2yd547kmV",
        "colab_type": "text"
      },
      "source": [
        "# Exercise 10: Arithmetic\n",
        "Create a program that reads two integers, a and b, fromthe user. Your program should compute and display: • The sum of a and b • The difference when b is subtracted from a • The product of a and b 6 1 Introduction to Programming Exercises • The quotient when a is divided by b • The remainder when a is dividedby b • The result of log10 a • The result of abHint: You will probably find the log10 function in the math module helpful for computing the second last item in the list."
      ]
    },
    {
      "cell_type": "code",
      "metadata": {
        "id": "9ZxZNAxB7pS3",
        "colab_type": "code",
        "colab": {}
      },
      "source": [
        ""
      ],
      "execution_count": null,
      "outputs": []
    }
  ]
}